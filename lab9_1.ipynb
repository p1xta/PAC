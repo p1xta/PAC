{
 "cells": [
  {
   "cell_type": "code",
   "execution_count": 1,
   "metadata": {},
   "outputs": [],
   "source": [
    "import matplotlib.pyplot as plt\n",
    "import pandas as pd\n",
    "import numpy as np"
   ]
  },
  {
   "cell_type": "code",
   "execution_count": 2,
   "metadata": {},
   "outputs": [
    {
     "data": {
      "text/html": [
       "<div>\n",
       "<style scoped>\n",
       "    .dataframe tbody tr th:only-of-type {\n",
       "        vertical-align: middle;\n",
       "    }\n",
       "\n",
       "    .dataframe tbody tr th {\n",
       "        vertical-align: top;\n",
       "    }\n",
       "\n",
       "    .dataframe thead th {\n",
       "        text-align: right;\n",
       "    }\n",
       "</style>\n",
       "<table border=\"1\" class=\"dataframe\">\n",
       "  <thead>\n",
       "    <tr style=\"text-align: right;\">\n",
       "      <th></th>\n",
       "      <th>Unnamed: 0</th>\n",
       "      <th>sex</th>\n",
       "      <th>row_number</th>\n",
       "      <th>liters_drunk</th>\n",
       "      <th>drink</th>\n",
       "      <th>check_number</th>\n",
       "      <th>label</th>\n",
       "      <th>age_child</th>\n",
       "      <th>age_adult</th>\n",
       "      <th>age_old</th>\n",
       "      <th>morning</th>\n",
       "      <th>day</th>\n",
       "      <th>evening</th>\n",
       "    </tr>\n",
       "  </thead>\n",
       "  <tbody>\n",
       "    <tr>\n",
       "      <th>0</th>\n",
       "      <td>0</td>\n",
       "      <td>0</td>\n",
       "      <td>90.0</td>\n",
       "      <td>1.0</td>\n",
       "      <td>1</td>\n",
       "      <td>8092</td>\n",
       "      <td>1</td>\n",
       "      <td>False</td>\n",
       "      <td>False</td>\n",
       "      <td>True</td>\n",
       "      <td>False</td>\n",
       "      <td>False</td>\n",
       "      <td>True</td>\n",
       "    </tr>\n",
       "    <tr>\n",
       "      <th>1</th>\n",
       "      <td>1</td>\n",
       "      <td>0</td>\n",
       "      <td>81.0</td>\n",
       "      <td>4.0</td>\n",
       "      <td>1</td>\n",
       "      <td>4252</td>\n",
       "      <td>1</td>\n",
       "      <td>False</td>\n",
       "      <td>True</td>\n",
       "      <td>False</td>\n",
       "      <td>False</td>\n",
       "      <td>True</td>\n",
       "      <td>False</td>\n",
       "    </tr>\n",
       "    <tr>\n",
       "      <th>2</th>\n",
       "      <td>2</td>\n",
       "      <td>1</td>\n",
       "      <td>14.0</td>\n",
       "      <td>3.0</td>\n",
       "      <td>0</td>\n",
       "      <td>6913</td>\n",
       "      <td>1</td>\n",
       "      <td>False</td>\n",
       "      <td>False</td>\n",
       "      <td>True</td>\n",
       "      <td>False</td>\n",
       "      <td>False</td>\n",
       "      <td>True</td>\n",
       "    </tr>\n",
       "    <tr>\n",
       "      <th>3</th>\n",
       "      <td>3</td>\n",
       "      <td>1</td>\n",
       "      <td>0.0</td>\n",
       "      <td>1.0</td>\n",
       "      <td>0</td>\n",
       "      <td>8479</td>\n",
       "      <td>1</td>\n",
       "      <td>False</td>\n",
       "      <td>False</td>\n",
       "      <td>True</td>\n",
       "      <td>False</td>\n",
       "      <td>True</td>\n",
       "      <td>False</td>\n",
       "    </tr>\n",
       "    <tr>\n",
       "      <th>4</th>\n",
       "      <td>4</td>\n",
       "      <td>1</td>\n",
       "      <td>84.0</td>\n",
       "      <td>1.0</td>\n",
       "      <td>0</td>\n",
       "      <td>6279</td>\n",
       "      <td>0</td>\n",
       "      <td>False</td>\n",
       "      <td>False</td>\n",
       "      <td>True</td>\n",
       "      <td>True</td>\n",
       "      <td>False</td>\n",
       "      <td>False</td>\n",
       "    </tr>\n",
       "  </tbody>\n",
       "</table>\n",
       "</div>"
      ],
      "text/plain": [
       "   Unnamed: 0  sex  row_number  liters_drunk  drink  check_number  label  \\\n",
       "0           0    0        90.0           1.0      1          8092      1   \n",
       "1           1    0        81.0           4.0      1          4252      1   \n",
       "2           2    1        14.0           3.0      0          6913      1   \n",
       "3           3    1         0.0           1.0      0          8479      1   \n",
       "4           4    1        84.0           1.0      0          6279      0   \n",
       "\n",
       "   age_child  age_adult  age_old  morning    day  evening  \n",
       "0      False      False     True    False  False     True  \n",
       "1      False       True    False    False   True    False  \n",
       "2      False      False     True    False  False     True  \n",
       "3      False      False     True    False   True    False  \n",
       "4      False      False     True     True  False    False  "
      ]
     },
     "metadata": {},
     "output_type": "display_data"
    }
   ],
   "source": [
    "df = pd.read_csv(\"titanic_prepared.csv\")\n",
    "display(df.head())"
   ]
  },
  {
   "cell_type": "code",
   "execution_count": 3,
   "metadata": {},
   "outputs": [
    {
     "name": "stdout",
     "output_type": "stream",
     "text": [
      "      Unnamed: 0  sex  row_number  liters_drunk  drink  check_number  \\\n",
      "645          645    0        18.0           1.0      1          3387   \n",
      "1933        1933    0        88.0           2.5      1          8033   \n",
      "1548        1548    0        55.0           0.0      1          7060   \n",
      "\n",
      "      age_child  age_adult  age_old  morning    day  evening  \n",
      "645       False       True    False    False   True    False  \n",
      "1933      False       True    False    False  False     True  \n",
      "1548      False       True    False    False   True    False  \n",
      "645     1\n",
      "1933    1\n",
      "1548    1\n",
      "Name: label, dtype: int64\n"
     ]
    }
   ],
   "source": [
    "from sklearn.model_selection import train_test_split\n",
    "df_x = df.drop(columns=['label'])\n",
    "df_y = df['label']\n",
    "\n",
    "X_train, X_test, y_train, y_test = train_test_split(df_x, df_y, test_size=0.1, random_state=True)\n",
    "print(X_train[:3])\n",
    "print(y_train[:3])"
   ]
  },
  {
   "cell_type": "code",
   "execution_count": 4,
   "metadata": {},
   "outputs": [],
   "source": [
    "from sklearn.preprocessing import MinMaxScaler\n",
    "scaler = MinMaxScaler()\n",
    "X_train = scaler.fit_transform(X_train, y_train)\n",
    "X_test = scaler.transform(X_test)"
   ]
  },
  {
   "cell_type": "code",
   "execution_count": 5,
   "metadata": {},
   "outputs": [],
   "source": [
    "from sklearn.tree import DecisionTreeClassifier\n",
    "from sklearn.linear_model import LogisticRegression\n",
    "from sklearn.metrics import accuracy_score\n",
    "from xgboost import XGBClassifier\n",
    "\n",
    "xgboost_model = XGBClassifier(n_estimators=20, max_depth=4)\n",
    "tree_model = DecisionTreeClassifier(max_depth=10)\n",
    "logistic_reg_model = LogisticRegression()"
   ]
  },
  {
   "cell_type": "code",
   "execution_count": 6,
   "metadata": {},
   "outputs": [
    {
     "name": "stdout",
     "output_type": "stream",
     "text": [
      "Decicion tree accuracy: 0.8975903614457831\n"
     ]
    }
   ],
   "source": [
    "tree_model.fit(X_train, y_train)\n",
    "tree_y_pred = tree_model.predict(X_test)\n",
    "tree_acc = accuracy_score(y_test, tree_y_pred)\n",
    "print(f\"Decicion tree accuracy: {tree_acc}\")"
   ]
  },
  {
   "cell_type": "code",
   "execution_count": 7,
   "metadata": {},
   "outputs": [
    {
     "name": "stdout",
     "output_type": "stream",
     "text": [
      "Logistic Regression accuracy: 0.8524096385542169\n"
     ]
    }
   ],
   "source": [
    "logistic_reg_model.fit(X_train, y_train)\n",
    "logistic_y_pred = logistic_reg_model.predict(X_test)\n",
    "logistic_acc = accuracy_score(y_test, logistic_y_pred)\n",
    "print(f\"Logistic Regression accuracy: {logistic_acc}\")"
   ]
  },
  {
   "cell_type": "code",
   "execution_count": 8,
   "metadata": {},
   "outputs": [
    {
     "name": "stdout",
     "output_type": "stream",
     "text": [
      "XGBoost accuracy: 0.9036144578313253\n"
     ]
    }
   ],
   "source": [
    "xgboost_model.fit(X_train, y_train)\n",
    "xgboost_y_pred = xgboost_model.predict(X_test)\n",
    "xgboost_acc = accuracy_score(y_test, xgboost_y_pred)\n",
    "print(f\"XGBoost accuracy: {xgboost_acc}\") "
   ]
  },
  {
   "cell_type": "code",
   "execution_count": 9,
   "metadata": {},
   "outputs": [
    {
     "data": {
      "image/png": "[encoded data removed]",
      "text/plain": [
       "<Figure size 640x480 with 1 Axes>"
      ]
     },
     "metadata": {},
     "output_type": "display_data"
    }
   ],
   "source": [
    "importances = tree_model.feature_importances_\n",
    "features = df_x.columns\n",
    "\n",
    "indices = np.argsort(importances)\n",
    "plt.title('Важность признаков')\n",
    "plt.barh(range(len(indices)), importances[indices], color='b', align='center')\n",
    "plt.yticks(range(len(indices)), features[indices])\n",
    "plt.xlabel('Относительная важность')\n",
    "plt.show()"
   ]
  },
  {
   "cell_type": "code",
   "execution_count": 21,
   "metadata": {},
   "outputs": [],
   "source": [
    "df_x_two_features = pd.concat((df['morning'], df['evening']), axis=1)\n",
    "df_y_two_features = df['label']\n",
    "X_train_two, X_test_two, y_train_two, y_test_two = train_test_split(df_x_two_features, df_y_two_features, test_size=0.1, random_state=True)\n"
   ]
  },
  {
   "cell_type": "code",
   "execution_count": 22,
   "metadata": {},
   "outputs": [
    {
     "name": "stdout",
     "output_type": "stream",
     "text": [
      "Decicion tree accuracy with two features: 0.8644578313253012\n"
     ]
    }
   ],
   "source": [
    "tree_model_two_features = DecisionTreeClassifier(max_depth=5)\n",
    "tree_model_two_features.fit(X_train_two, y_train_two)\n",
    "tree_preds_two = tree_model_two_features.predict(X_test_two)\n",
    "tree_two_acc = accuracy_score(y_test_two, tree_preds_two)\n",
    "print(f\"Decicion tree accuracy with two features: {tree_two_acc}\")"
   ]
  }
 ],
 "metadata": {
  "kernelspec": {
   "display_name": "Python 3",
   "language": "python",
   "name": "python3"
  },
  "language_info": {
   "codemirror_mode": {
    "name": "ipython",
    "version": 3
   },
   "file_extension": ".py",
   "mimetype": "text/x-python",
   "name": "python",
   "nbconvert_exporter": "python",
   "pygments_lexer": "ipython3",
   "version": "3.12.3"
  }
 },
 "nbformat": 4,
 "nbformat_minor": 2
}
