{
 "cells": [
  {
   "cell_type": "code",
   "execution_count": 64,
   "metadata": {},
   "outputs": [],
   "source": [
    "import numpy as np\n",
    "import pandas as pd\n",
    "from sklearn.tree import DecisionTreeClassifier\n",
    "from sklearn.utils import resample\n",
    "from sklearn.metrics import accuracy_score"
   ]
  },
  {
   "cell_type": "code",
   "execution_count": 70,
   "metadata": {},
   "outputs": [],
   "source": [
    "class MyRandomForest:\n",
    "    def __init__(self, n_estimators=20, max_features='sqrt', max_depth=5):\n",
    "        self.n_estimators = n_estimators\n",
    "        self.max_features = max_features\n",
    "        self.trees = []\n",
    "        self.max_depth = max_depth\n",
    "\n",
    "    def fit(self, X, y):\n",
    "        self.trees = []\n",
    "        self.bootstrap_samples = []\n",
    "\n",
    "        for _ in range(self.n_estimators):\n",
    "            X_sample, y_sample = resample(X, y) #bootstrap\n",
    "            \n",
    "            tree = DecisionTreeClassifier(\n",
    "                max_features=self.max_features,\n",
    "                max_depth=self.max_depth,\n",
    "                splitter=\"best\"\n",
    "            )\n",
    "            \n",
    "            tree.fit(X_sample, y_sample)\n",
    "            self.trees.append(tree)\n",
    "    \n",
    "    def predict(self, X):\n",
    "        tree_preds = np.array([tree.predict(X) for tree in self.trees])\n",
    "        \n",
    "        y_pred = np.apply_along_axis(lambda x: np.bincount(x).argmax(), axis=0, arr=tree_preds)\n",
    "        return y_pred\n",
    "    def score(self, X, y):\n",
    "        y_pred = self.predict(X)\n",
    "        return accuracy_score(y, y_pred)"
   ]
  },
  {
   "cell_type": "code",
   "execution_count": 66,
   "metadata": {},
   "outputs": [],
   "source": [
    "from sklearn.model_selection import train_test_split\n",
    "\n",
    "df = pd.read_csv(\"titanic_prepared.csv\")\n",
    "df_x = df.drop(columns=['label'])\n",
    "df_y = df['label']\n",
    "\n",
    "X_train, X_test, y_train, y_test = train_test_split(df_x, df_y, test_size=0.2, random_state=True)"
   ]
  },
  {
   "cell_type": "code",
   "execution_count": 89,
   "metadata": {},
   "outputs": [
    {
     "name": "stdout",
     "output_type": "stream",
     "text": [
      "Decicion tree accuracy: 0.8997739261492087\n"
     ]
    }
   ],
   "source": [
    "from sklearn.tree import DecisionTreeClassifier\n",
    "single_tree_model = DecisionTreeClassifier(max_depth=10)\n",
    "single_tree_model.fit(X_train, y_train)\n",
    "tree_y_pred = single_tree_model.predict(X_test)\n",
    "tree_acc = single_tree_model.score(X_test, y_test)\n",
    "print(f\"Decicion tree accuracy: {tree_acc}\")"
   ]
  },
  {
   "cell_type": "code",
   "execution_count": 88,
   "metadata": {},
   "outputs": [
    {
     "name": "stdout",
     "output_type": "stream",
     "text": [
      "Random Forest accuracy: 0.9073097211755841\n"
     ]
    }
   ],
   "source": [
    "random_forest_model = MyRandomForest(n_estimators=70, max_depth=10)\n",
    "random_forest_model.fit(X_train, y_train)\n",
    "forest_preds = random_forest_model.predict(X_test)\n",
    "forest_acc = random_forest_model.score(X_test, y_test)\n",
    "print(f\"Random Forest accuracy: {forest_acc}\")"
   ]
  }
 ],
 "metadata": {
  "kernelspec": {
   "display_name": "Python 3",
   "language": "python",
   "name": "python3"
  },
  "language_info": {
   "codemirror_mode": {
    "name": "ipython",
    "version": 3
   },
   "file_extension": ".py",
   "mimetype": "text/x-python",
   "name": "python",
   "nbconvert_exporter": "python",
   "pygments_lexer": "ipython3",
   "version": "3.12.3"
  }
 },
 "nbformat": 4,
 "nbformat_minor": 2
}
